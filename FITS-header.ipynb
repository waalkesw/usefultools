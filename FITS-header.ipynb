{
 "cells": [
  {
   "cell_type": "markdown",
   "metadata": {},
   "source": [
    "# Edit a FITS header\n",
    "\n",
    "## Authors\n",
    "Adrian Price-Whelan, Adam Ginsburg, Stephanie T. Douglas, Kelle Cruz\n",
    "\n",
    "## Learning Goals\n",
    "* Read a FITS file \n",
    "* Retrieve FITS header metadata\n",
    "* Edit the FITS header \n",
    "* Write the modified file as a FITS file\n",
    "\n",
    "## Keywords\n",
    "FITS, file input/output\n",
    "\n",
    "## Summary\n",
    "This tutorial describes how to read in and edit a FITS header, and then write \n",
    "it back out to disk. For this example we're going to change the `OBJECT` \n",
    "keyword."
   ]
  },
  {
   "cell_type": "code",
   "execution_count": 3,
   "metadata": {},
   "outputs": [],
   "source": [
    "from astropy.io import fits"
   ]
  },
  {
   "cell_type": "markdown",
   "metadata": {},
   "source": [
    "``astropy.io.fits`` provides a lot of flexibility for reading FITS \n",
    "files and headers, but most of the time the convenience functions are\n",
    "the easiest way to access the data. ``fits.getdata()`` reads only the \n",
    "data from a FITS file, but with the `header=True` keyword argument will\n",
    "also read the header. "
   ]
  },
  {
   "cell_type": "code",
   "execution_count": 7,
   "metadata": {},
   "outputs": [],
   "source": [
    "data, header = fits.getdata(\"elp1m006-fa07-20201103-0207-e91.fits\", header=True)"
   ]
  },
  {
   "cell_type": "markdown",
   "metadata": {},
   "source": [
    "There is also a dedicated function for reading only the \n",
    "header:"
   ]
  },
  {
   "cell_type": "code",
   "execution_count": 8,
   "metadata": {
    "scrolled": true
   },
   "outputs": [
    {
     "data": {
      "text/plain": [
       "SIMPLE  =                    T / conforms to FITS standard                      \n",
       "BITPIX  =                  -32 / array data type                                \n",
       "NAXIS   =                    2 / number of array dimensions                     \n",
       "NAXIS1  =                 4096                                                  \n",
       "NAXIS2  =                 4096                                                  \n",
       "EXTEND  =                    T                                                  \n",
       "DATADICV= 'LCOGT-DIC.FITS-0.10.0' / Version number of the data dictionary       \n",
       "HDRVER  = 'LCOGT-HDR-1.3.0'    / Version number of the headers                  \n",
       "ORIGIN  = 'LCOGT   '           / Organization responsible for the data          \n",
       "SITEID  = 'elp     '           / ID code of the Observatory site                \n",
       "SITE    = 'LCOGT node at McDonald Observatory' / Site of the Observatory        \n",
       "ENCID   = 'domb    '           / ID code of the Enclosure                       \n",
       "ENCLOSUR= 'Dome-13 '           / Building containing Telescope                  \n",
       "TELID   = '1m0a    '           / ID code of the Telescope                       \n",
       "TELESCOP= '1m0-06  '           / The Name of the Telescope                      \n",
       "LATITUDE=           30.6798330 / [deg North] Telescope Latitude                 \n",
       "LONGITUD=         -104.0151730 / [deg East] Telescope Longitude                 \n",
       "HEIGHT  =             2030.000 / [m] Altitude of Telescope above sea level      \n",
       "OBSGEO-X=         -1330030.117 / [m] Cartesian X co-ord of telescope (WGS84)    \n",
       "OBSGEO-Y=         -5328447.712 / [m] Cartesian Y co-ord of telescope (WGS84)    \n",
       "OBSGEO-Z=          3236452.490 / [m] Cartesian Z co-ord of telescope (WGS84)    \n",
       "OBSTYPE = 'EXPOSE  '           / Observation type                               \n",
       "FRAMENUM=                  207 / Running frame number                           \n",
       "MOLTYPE = 'EXPOSE  '           / Molecule type                                  \n",
       "MOLNUM  =                  150 / Molecule number                                \n",
       "MOLFRNUM=                    7 / Exposure number within molecule                \n",
       "FRMTOTAL=                  143 / Total number of exposures within molecule      \n",
       "ORIGNAME= 'elp1m006-fa07-20201103-0207-e00.fits' / Fname written by ICS         \n",
       "OBSTELEM= 'N/A     '           / Link to observation telemetry                  \n",
       "TIMESYS = 'UTC     '           / Time system used                               \n",
       "DATE    = '2020-11-04T07:26:30.027966' / [UTC] Date this FITS file was written  \n",
       "DATE-OBS= '2020-11-04T07:23:53.801' / [UTC] Start date and time of the observati\n",
       "DAY-OBS = '20201103'           / [UTC] Date at start of local observing night   \n",
       "UTSTART = '07:23:53.801'       / [UTC] The start time of the observation        \n",
       "UTSTOP  = '07:25:33.773'       / [UTC] The finish time of the observation       \n",
       "MJD-OBS =        59157.3081181 / [UTC days] Start date/time (Modified Julian Dat\n",
       "EXPTIME =           99.9720000 / [s] Exposure length                            \n",
       "REQTIME =          100.0000000 / [s] Requested exposure length                  \n",
       "FILTER1 = 'air     '           / The first filter wheel filter type             \n",
       "FILTERI1= 'Air     '           / The first filter wheel filter id               \n",
       "FILTER2 = 'air     '           / The second filter wheel filter type            \n",
       "FILTERI2= 'Air     '           / The second filter wheel filter id              \n",
       "FILTER3 = 'I       '           / The third filter wheel filter type             \n",
       "FILTERI3= 'COUS-IC-178'        / The third filter wheel filter id               \n",
       "FILTER  = 'I       '           / Filter used                                    \n",
       "FWID    = 'fws1m-02'           / Filter Wheel ID                                \n",
       "INSTRUME= 'fa07    '           / Instrument used                                \n",
       "INSSTATE= 'OKAY    '           / The instrument status                          \n",
       "ICSVER  = 'master@0x78720c6'   / Version number of the ICS software             \n",
       "CONFMODE= 'full_frame'         / Camera mode configuration                      \n",
       "CONFNAME= 'N/A     '           / The instrument configuration used              \n",
       "DETECTOR= 'UNKNOWN '           / Detector type                                  \n",
       "DETECTID= 'DB-68   '           / Detector serial number                         \n",
       "GAIN    =                  1.0 / [electrons/count] Pixel gain                   \n",
       "RDNOISE =            7.5000000 / [electrons/pixel] Read noise                   \n",
       "DARKCURR=            0.0000000 / [electrons/pixel/s @ 200K] Dark current        \n",
       "SATURATE=             129200.0 / [ADU] Saturation level                         \n",
       "MAXLIN  =             129200.0 / [ADU] Non-linearity level                      \n",
       "RDSPEED =           60.0000000 / [kpix/s] Readout speed used                    \n",
       "DETSIZE = '[1:4096,1:4096]'    / [pixel] Detector size                          \n",
       "AMPNAME = 'default '           / Amplifier name                                 \n",
       "CCDSEC  = 'UNKNOWN '           / [pixel] Region of CCD read                     \n",
       "CCDSUM  = '1 1     '           / CCD on-chip summing/binning                    \n",
       "BIASSEC = 'UNKNOWN '           / [binned pixel] Section of bias/overscan data   \n",
       "DATASEC = '[1:4096,1:4096]'    / [binned pixel] Data section                    \n",
       "TRIMSEC = '[1:4096,1:4096]'    / [binned pixel] Section of useful data          \n",
       "ROI     = 'UNKNOWN '           / [binned pixel] Region of interest or MULTIPLE  \n",
       "DETSEC  = '[1:4096,1:4096]'    / [binned pixel] Section of useful data          \n",
       "CCDXPIXE=            0.0000150 / [m] Size of pixels, in X                       \n",
       "CCDYPIXE=            0.0000150 / [m] Size of pixels, in Y                       \n",
       "PIXSCALE=            0.3890000 / [arcsec/pixel] Nominal pixel scale on sky      \n",
       "CCDSTEMP=          -90.0000000 / [deg C] CCD required temperature               \n",
       "CCDATEMP=          -90.0013275 / [deg C] CCD actual temperature                 \n",
       "CCDSESIG= 'N/A     '           / [mK] CCD temp control servo error signal       \n",
       "TELMODE = 'AUTOMATIC'          / Telescope mode                                 \n",
       "TAGID   = 'UNSPECIFIED'        / Time Allocation Group ID                       \n",
       "USERID  = 'will.waalkes'       / User ID                                        \n",
       "PROPID  = 'LCO2020B-016'       / Proposal ID                                    \n",
       "GROUPID = 'TIC 237751146 (TOI 538.01)' / Group ID                               \n",
       "OBSID   = 'UNSPECIFIED'        / Observation ID                                 \n",
       "OBSNOTE = 'UNSPECIFIED'        / Observation Note                               \n",
       "SCHEDNAM= 'POND    '           / Name of scheduler in control                   \n",
       "TRACKNUM= '1071813 '           / Request DB tracking number                     \n",
       "REQNUM  = '2269025 '           / Request DB request number                      \n",
       "MOLUID  = '224303270'          / Molecule unique ID                             \n",
       "BLKTYPE = 'POND    '           / Group type                                     \n",
       "BLKUID  = '156631388'          / Group unique ID                                \n",
       "BLKSDATE= '2020-11-04T07:10:00' / [UTC] Block start date                        \n",
       "BLKEDATE= '2020-11-04T12:19:15' / [UTC] Block end date                          \n",
       "BLKNOMEX=        18555.0000000 / [s] Block nominal exec time                    \n",
       "BLKMNPH = 'N/A     '           / [(0-1)] Maximum lunar phase required           \n",
       "BLKMNDST=           25.0000000 / [deg] Minimum lunar distance required          \n",
       "BLKSEECO= 'N/A     '           / Minimum seeing required                        \n",
       "BLKTRNCO= 'N/A     '           / Minimum transparency required                  \n",
       "BLKAIRCO= '2.0     '           / Maximum airmass required                       \n",
       "SCHEDSEE=            3.8055165 / [arcsec] Estimated seeing when group scheduled \n",
       "SCHEDTRN= 'N/A     '           / [(0-1)] Estimated transparency when group sched\n",
       "TRIGGER = 'N/A     '           / External trigger ID                            \n",
       "OBRECIPE= 'N/A     '           / Observing Recipes required/used                \n",
       "PCRECIPE= 'N/A     '           / Processing Recipes required/used               \n",
       "PPRECIPE= 'N/A     '           / Post-Processing Recipes required/used          \n",
       "RA      = '06:57:20.1763'      / [HH:MM:SS.sss] RA where telescope is pointing  \n",
       "DEC     = '+04:01:59.603'      / [sDD:MM:SS.ss] Dec where telescope is pointing \n",
       "RADESYS = 'ICRS    '           / [[FK5,ICRS]] Fundamental coord. system of the o\n",
       "LST     = '03:23:37.61'        / [HH:MM:SS.ss] LST at start of current observati\n",
       "CAT-RA  = '06:57:19.608'       / [HH:MM:SS.sss] Catalog RA of the object        \n",
       "CAT-DEC = '+04:01:44.40'       / [sDD:MM:SS.ss] Catalog Dec of the object       \n",
       "CAT-EPOC=         2000.0000000 / [Year] Catalog epoch of the coordinates        \n",
       "OFST-RA = '06:57:19.608'       / [HH:MM:SS.sss] Catalog RA plus pointing offsets\n",
       "OFST-DEC= '+04:01:44.40'       / [sDD:MM:SS.ss] Catalog Dec plus pointing offset\n",
       "TPT-RA  = '06:58:23.834'       / [HH:MM:SS.sss] Telescope demand RA             \n",
       "TPT-DEC = '+03:17:24.86'       / [sDD:MM:SS.ss] Telescope demand Dec            \n",
       "OBJECT  = 'TIC_237751146'      / Object name                                    \n",
       "SRCTYPE = 'EXTRASOLAR'         / Source type                                    \n",
       "PM-RA   =            0.0000000 / [sec/year] Proper motion in RA of the object   \n",
       "PM-DEC  =            0.0000000 / [arcsec/year] Proper motion in Dec of the objec\n",
       "PARALLAX=            0.0000000 / [arcsec] Parallax of the object                \n",
       "RADVEL  =            0.0000000 / [km/s] Radial velocity of the object           \n",
       "RATRACK =            0.0000000 / [arcsec/s] Non-sidereal tracking in RA         \n",
       "DECTRACK=            0.0000000 / [arcsec/s] Non-sidereal tracking in Dec        \n",
       "TELSTATE= 'OKAY    '           / Current telescope status                       \n",
       "ENGSTATE= 'UNKNOWN '           / Engineering override state                     \n",
       "TCSSTATE= 'OKAY    '           / TCS state                                      \n",
       "TCSVER  = '0.4     '           / Version number of the TCS software             \n",
       "TPNTMODL= '20201104035827'     / Version number of the pointing model           \n",
       "UT1-UTC =           -0.1756000 / [s] UT1-UTC                                    \n",
       "POLARMOX=            0.1551000 / [arcsec] Polar motion X                        \n",
       "POLARMOY=            0.2947000 / [arcsec] Polar motion Y                        \n",
       "EOPSRC  = 'IERS BULL. A 2020/10/29' / Source of the EOP Values                  \n",
       "ROLLERDR=            0.0000000 / [rad] Driven roller encoder angle              \n",
       "ROLLERND=            0.0000000 / [rad] Non-driven roller encoder angle          \n",
       "AZDMD   =          106.7083413 / [deg] Azimuth axis demand                      \n",
       "AZIMUTH =          106.7083359 / [deg] Azimuth axis position                    \n",
       "AZSTAT  = 'UNKNOWN '           / Azimuth axis state                             \n",
       "ALTDMD  =           32.9253802 / [deg] Altitude axis demand                     \n",
       "ALTITUDE=           32.9253955 / [deg] Altitude axis position                   \n",
       "ALTSTAT = 'OKAY    '           / Altitude axis state                            \n",
       "AIRMASS =            1.8262893 / Effective mean airmass                         \n",
       "AMSTART =            1.8357371 / Airmass at start of observation                \n",
       "AMEND   =            1.8168415 / Airmass at end of observation                  \n",
       "ENC1STAT= 'OPEN    '           / Enclosure shutter 1 state                      \n",
       "ENC2STAT= 'OPEN    '           / Enclosure shutter 2 state                      \n",
       "ENCAZ   =          105.9866769 / [deg] Enclosure azimuth                        \n",
       "ENCWLIGT= 'OFF     '           / Enclosure white lights state                   \n",
       "ENCRLIGT= 'OFF     '           / Enclosure red lights state                     \n",
       "FOLDSTAT= 'N/A     '           / Fold mirror state                              \n",
       "FOLDPORT= '1       '           / Fold mirror port                               \n",
       "FOLDPOSN= 'N/A, N/A'           / [{mm,deg}] Fold mirror position (r, theta)     \n",
       "M1COVER = 'STOWED  '           / M1 mirror cover state                          \n",
       "M1HRTMN = 'UNKNOWN '           / M1 Hartmann screen state                       \n",
       "FOCDMD  =            1.0000000 / [mm] Demanded focus position in focal plane    \n",
       "FOCPOSN =            0.9983077 / [mm] Actual focus position in focal plane      \n",
       "FOCTELZP=            0.3500000 / [mm] Telescope default focus                   \n",
       "FOCINOFF=            0.0000000 / [mm] Instrument focus offset                   \n",
       "FOCTOFF =            0.0143650 / [mm] Thermal correction value                  \n",
       "FOCZOFF =            0.0685408 / [mm] Zenith compression correction             \n",
       "FOCAFOFF=            1.1000000 / [mm] Autofocus offset in focal plane           \n",
       "FOCOBOFF=            1.0000000 / [mm] Observer focus offset/defocus in focal pla\n",
       "FOCFLOFF=           -1.0000000 / [mm] Filter focus offset in focal plane        \n",
       "FOCSTAT = 'HALTED  '           / Focus state                                    \n",
       "M2PITCH =         1054.0000000 / [arcsec] M2 tilt about vertex in pitch directio\n",
       "M2ROLL  =          657.0000000 / [arcsec] M2 tilt about vertex in roll direction\n",
       "CTYPE1  = 'RA---TAN'           / Type of WCS Projection                         \n",
       "CTYPE2  = 'DEC--TAN'           / Type of WCS Projection                         \n",
       "CRPIX1  =               2048.5 / [pixel] Coordinate of reference point (axis 1) \n",
       "CRPIX2  =               2048.5 / [pixel] Coordinate of reference point (axis 2) \n",
       "CRVAL1  =        104.334067997 / [deg] RA at the reference pixel                \n",
       "CRVAL2  =        4.03322322262 / [deg] Dec at the reference pixel               \n",
       "CUNIT1  = 'deg     '           / Units of RA                                    \n",
       "CUNIT2  = 'deg     '           / Units of Dec                                   \n",
       "CD1_1   =    -0.00010837591447 / WCS CD transformation matrix                   \n",
       "CD1_2   =   -8.34530024648E-07 / WCS CD transformation matrix                   \n",
       "CD2_1   =   -8.34530024648E-07 / WCS CD transformation matrix                   \n",
       "CD2_2   =     0.00010837591447 / WCS CD transformation matrix                   \n",
       "WMSSTATE= 'OKAY    '           / WMS system state                               \n",
       "WMSHUMID=           32.4000015 / [%] Current percentage humidity                \n",
       "WMSTEMP =           13.6999998 / [deg C] External temperature                   \n",
       "WMSPRES =          804.6006840 / [mbar] Atmospheric pressure                    \n",
       "WINDSPEE=           17.9639992 / [km/h] Windspeed                               \n",
       "WINDDIR =          220.0000000 / [deg E of N] Wind direction                    \n",
       "WMSRAIN = 'CLEAR   '           / Rain alert                                     \n",
       "WMSMOIST=          257.8000183 / [mV] Moisture level                            \n",
       "WMSDEWPT=           -2.5000000 / [deg C] Dewpoint                               \n",
       "WMSCLOUD=          -40.0500000 / [deg C] Boltwood sky temperature               \n",
       "WMSSKYBR=           19.6499996 / [mag/arcsec^2] Measured sky brightness         \n",
       "SKYMAG  =           17.7814153 / [mag/arcsec^2] Computed (expected) sky brightne\n",
       "TUBETEMP=            9.2043834 / [deg C] Temperature of the telescope tube      \n",
       "M1TEMP  = 'UNKNOWN '           / [deg C] Primary mirror temperature             \n",
       "FOCTEMP =           12.7900000 / [deg C] Focus temperature                      \n",
       "ISSTEMP = 'UNKNOWN '           / [deg C] ISS temperature                        \n",
       "REFPRES =          804.3340229 / [mbar] Pressure used in refraction calculation \n",
       "REFTEMP =           13.6999998 / [deg C] Temperature used in refraction calculat\n",
       "REFHUMID=           33.0999985 / [%] Humidity used in refraction calculation    \n",
       "AGSTATE = 'GUIDING_CLOSED_LOOP' / Autoguider software state                     \n",
       "AGCAM   = 'ef07    '           / Camera used for autoguiding                    \n",
       "AGLCKFRC=                86.70 / [%] Fraction of time AG locked                 \n",
       "AGMODE  = 'ON      '           / Autoguider mode                                \n",
       "AGRA    =          104.3266749 / [deg] RA of guide star                         \n",
       "AGDEC   =            4.6981435 / [deg] Dec of guide star                        \n",
       "AGGMAG  = 'UNKNOWN '           / [mag] Autoguider guide star mag                \n",
       "AGFWHM  =            3.0161500 / [arcsec] Autoguider FWHM                       \n",
       "AGMIRDMD= 'UNKNOWN '           / [mm] Autoguider mirror demand                  \n",
       "AGMIRPOS= 'N/A, N/A'           / Autoguider mirror position                     \n",
       "AGMIRST = 'N/A     '           / Autoguider mirror state                        \n",
       "AGFOCDMD=           -9.0000000 / [mm] Autoguider focus demand                   \n",
       "AGFOCUS =           -7.9690000 / [mm] Autoguider focus position                 \n",
       "AGFOCOFF=            0.0000000 / [mm] Autoguider relative focus offset          \n",
       "AGFOCST = 'In position'        / Autoguider focus state                         \n",
       "AGFILTER= 'clear,  '           / Autoguider filter                              \n",
       "AGFILTID= 'ADNP-P2-216,'       / Autoguider filter id                           \n",
       "AGFILST = 'Enabled '           / Autoguider filter state                        \n",
       "MOONSTAT= 'UP      '           / [{UP, DOWN}] Moon position at obs start        \n",
       "MOONFRAC=            0.8785950 / [(0 - 1)] Lunar Illuminated Fraction           \n",
       "MOONDIST=           28.7737802 / [deg] Lunar distance from target               \n",
       "MOONALT =           60.9644509 / [deg] Lunar altitude                           \n",
       "SUNDIST =          115.4558078 / [deg] Solar distance from target               \n",
       "SUNALT  =          -71.8270354 / [deg] Solar altitude                           \n",
       "CLKMODE =                    1 / Sinistro Readout Mode                          \n",
       "AMPMASK =                   15 / Sinistro Active Amplifier Mask                 \n",
       "CRSTLK12=              0.00057 / [Crosstalk coefficient] Signal from Q1 onto Q2 \n",
       "CRSTLK13=             -0.00000 / [Crosstalk coefficient] Signal from Q1 onto Q3 \n",
       "CRSTLK14=             -0.00003 / [Crosstalk coefficient] Signal from Q1 onto Q4 \n",
       "CRSTLK23=             -0.00000 / [Crosstalk coefficient] Signal from Q2 onto Q3 \n",
       "CRSTLK21=              0.00069 / [Crosstalk coefficient] Signal from Q2 onto Q1 \n",
       "CRSTLK24=             -0.00003 / [Crosstalk coefficient] Signal from Q2 onto Q4 \n",
       "CRSTLK32=             -0.00001 / [Crosstalk coefficient] Signal from Q3 onto Q2 \n",
       "CRSTLK31=             -0.00001 / [Crosstalk coefficient] Signal from Q3 onto Q1 \n",
       "CRSTLK34=              0.00058 / [Crosstalk coefficient] Signal from Q3 onto Q4 \n",
       "CRSTLK42=             -0.00002 / [Crosstalk coefficient] Signal from Q4 onto Q2 \n",
       "CRSTLK43=              0.00065 / [Crosstalk coefficient] Signal from Q4 onto Q3 \n",
       "CRSTLK41=             -0.00001 / [Crosstalk coefficient] Signal from Q4 onto Q1 \n",
       "L1IDMASK= 'elp1m006-fa07-20190812-bpm-full_frame.fits.fz' / Id. of mask file use\n",
       "SATFRAC = 5.46647230320699E-05 / Fraction of Pixels that are Saturated          \n",
       "EXTNAME = 'SCI     '                                                            \n",
       "L1STATOV= '1       '           / Status flag for overscan correction            \n",
       "OVERSCN1= '3695.00 '           / Overscan value that was subtracted             \n",
       "OVERSCN2= '3774.11 '           / Overscan value that was subtracted             \n",
       "OVERSCN3= '5679.12 '           / Overscan value that was subtracted             \n",
       "OVERSCN4= '5881.31 '           / Overscan value that was subtracted             \n",
       "BIASLVL =   0.3618534104974895 / Bias level that was removed after overscan     \n",
       "L1IDBIAS= 'elp1m006-fa07-20201103-bias-bin1x1.fits.fz' / ID of bias frame       \n",
       "L1STATBI=                    1 / Status flag for bias frame correction          \n",
       "L1IDDARK= 'elp1m006-fa07-20201103-dark-bin1x1.fits.fz' / ID of dark frame       \n",
       "L1STATDA=                    1 / Status flag for dark frame correction          \n",
       "L1IDFLAT= 'elp1m006-fa07-20201103-skyflat-bin1x1-I.fits.fz' / ID of flat frame  \n",
       "L1STATFL=                    1 / Status flag for flat field correction          \n",
       "L1MEAN  =    3597.414027000705 / [counts] Sigma clipped mean of frame background\n",
       "L1MEDIAN=     3586.61181640625 / [counts] Median of frame background            \n",
       "L1SIGMA =    333.7804599609375 / [counts] Robust std dev of frame background    \n",
       "L1FWHM  =     2.82030380448351 / [arcsec] Frame FWHM in arcsec                  \n",
       "L1ELLIP =   0.1649238414424133 / Mean image ellipticity (1-B/A)                 \n",
       "L1ELLIPA=    2.009375689014796 / [deg] PA of mean image ellipticity             \n",
       "WCSERR  =                    0 / Error status of WCS fit. 0 for no error        \n",
       "PNTOFST =    17.42017206156202 / [arcsec] offset of requested and solved center \n",
       "RLEVEL  =                   91 / Reduction level                                \n",
       "PIPEVER = '1.0.6   '           / Pipeline version                               \n",
       "L1PUBDAT= '2021-11-04T07:23:53.801000' / [UTC] Date the frame becomes public    \n",
       "CHECKSUM= '953AD4129418C418'   / HDU checksum updated 2020-11-04T19:58:48       \n",
       "DATASUM = '3730191825'         / data unit checksum updated 2020-11-04T19:58:48 "
      ]
     },
     "execution_count": 8,
     "metadata": {},
     "output_type": "execute_result"
    }
   ],
   "source": [
    "hdu_number = 0 # HDU means header data unit\n",
    "fits.getheader('elp1m006-fa07-20201103-0207-e91.fits', hdu_number)"
   ]
  },
  {
   "cell_type": "markdown",
   "metadata": {},
   "source": [
    "But `getdata()` can get both the data and the header, so it's a useful \n",
    "command to remember. Since the primary HDU of a FITS file must contain image data, \n",
    "the data is now stored in a ``numpy`` array. The header is stored in an \n",
    "object that acts like a standard Python dictionary. "
   ]
  },
  {
   "cell_type": "code",
   "execution_count": null,
   "metadata": {},
   "outputs": [],
   "source": [
    "# But hdu_number = 0 is the PRIMARY HDU.How many HDUs are in this file?\n",
    "fits_inf = fits.open(\"input_file.fits\")\n",
    "fits_inf.info() \n",
    "fits_inf[0].header"
   ]
  },
  {
   "cell_type": "code",
   "execution_count": 9,
   "metadata": {},
   "outputs": [
    {
     "data": {
      "text/plain": [
       "'TIC_237751146'"
      ]
     },
     "execution_count": 9,
     "metadata": {},
     "output_type": "execute_result"
    }
   ],
   "source": [
    "header['OBJECT']"
   ]
  },
  {
   "cell_type": "markdown",
   "metadata": {},
   "source": [
    "Using ``fits.open`` allows us to look more generally at our data.  ``fits_inf[0].header`` gives us the same output as ``fits.getheader``.  What will you learn if you type ``fits_inf[1].header``?  Based on ``fits_inf.info()`` can you guess what will happen if you type ``fits_inf[2].header``?"
   ]
  },
  {
   "cell_type": "markdown",
   "metadata": {},
   "source": [
    "Now let's change the header to give it the correct object:"
   ]
  },
  {
   "cell_type": "code",
   "execution_count": 10,
   "metadata": {},
   "outputs": [],
   "source": [
    "header['OBJECT'] = 'TOI 538.01'"
   ]
  },
  {
   "cell_type": "markdown",
   "metadata": {},
   "source": [
    "Finally, we have to write out the FITS file. Again, the convenience \n",
    "function for this is the most useful command to remember:"
   ]
  },
  {
   "cell_type": "code",
   "execution_count": 11,
   "metadata": {},
   "outputs": [
    {
     "data": {
      "text/plain": [
       "'TOI 538.01'"
      ]
     },
     "execution_count": 11,
     "metadata": {},
     "output_type": "execute_result"
    }
   ],
   "source": [
    "header['OBJECT']"
   ]
  },
  {
   "cell_type": "code",
   "execution_count": null,
   "metadata": {},
   "outputs": [],
   "source": [
    "fits.writeto('output_file.fits', data, header, overwrite=True)"
   ]
  },
  {
   "cell_type": "markdown",
   "metadata": {},
   "source": [
    "That's it; you're done!"
   ]
  },
  {
   "cell_type": "markdown",
   "metadata": {},
   "source": [
    "Two common and more complicated cases are worth mentioning (but if your needs \n",
    "are much more complex, you should consult the full documentation http://docs.astropy.org/en/stable/io/fits/). \n",
    "\n",
    "The first complication is that the FITS file you're examining and \n",
    "editing might have multiple HDU's (extensions), in which case you can \n",
    "specify the extension like this:"
   ]
  },
  {
   "cell_type": "code",
   "execution_count": null,
   "metadata": {},
   "outputs": [],
   "source": [
    "data1, header1 = fits.getdata(\"input_file.fits\", ext=1, header=True) "
   ]
  },
  {
   "cell_type": "markdown",
   "metadata": {},
   "source": [
    "This will get you the data and header associated with the `index=1` extension \n",
    "in the FITS file. Without specifying a number, `getdata()` will get the \n",
    "0th extension (equivalent to saying `ext=0`)."
   ]
  },
  {
   "cell_type": "markdown",
   "metadata": {},
   "source": [
    "Another useful tip is if you want to overwrite an existing FITS \n",
    "file. By default, `writeto()` won't let you do this, so you need to \n",
    "explicitly give it permission using the `clobber` keyword argument:"
   ]
  },
  {
   "cell_type": "code",
   "execution_count": null,
   "metadata": {},
   "outputs": [],
   "source": [
    "fits.writeto('output_file.fits', data, header, overwrite=True)"
   ]
  },
  {
   "cell_type": "markdown",
   "metadata": {},
   "source": [
    "A final example is if you want to make a small change to a FITS file, like updating a header keyword, but you don't want to read in and write out the whole file, which can take a while.  Instead you can use the `mode='update'` read mode to do this:"
   ]
  },
  {
   "cell_type": "code",
   "execution_count": null,
   "metadata": {},
   "outputs": [],
   "source": [
    "with fits.open('input_file.fits', mode='update') as filehandle:\n",
    "    filehandle[0].header['MYHDRKW'] = \"My Header Keyword\""
   ]
  },
  {
   "cell_type": "markdown",
   "metadata": {},
   "source": [
    "## Exercise"
   ]
  },
  {
   "cell_type": "markdown",
   "metadata": {},
   "source": [
    "Read in the file you just wrote and add three header keywords:\n",
    "\n",
    "1. 'RA' for the Right Ascension of M31\n",
    "2. 'DEC' for the Declination of M31\n",
    "3. 'RADECSRC' with text indicating where you found the RA/Dec (web URL, textbook name, your photographic memory, etc.)\n",
    "\n",
    "Then write the updated header back out to a new file: "
   ]
  },
  {
   "cell_type": "code",
   "execution_count": null,
   "metadata": {},
   "outputs": [],
   "source": []
  }
 ],
 "metadata": {
  "astropy-tutorials": {
   "author": "Adrian M. Price-Whelan <adrn@astro.columbia.edu>",
   "date": "July 2013",
   "description": "Demonstrates how to read in, edit a FITS header, and then write it back out to disk using astropy.io.fits.",
   "link_name": "Editing a FITS header",
   "name": "",
   "published": true
  },
  "kernelspec": {
   "display_name": "Python 3",
   "language": "python",
   "name": "python3"
  },
  "language_info": {
   "codemirror_mode": {
    "name": "ipython",
    "version": 3
   },
   "file_extension": ".py",
   "mimetype": "text/x-python",
   "name": "python",
   "nbconvert_exporter": "python",
   "pygments_lexer": "ipython3",
   "version": "3.8.3"
  }
 },
 "nbformat": 4,
 "nbformat_minor": 4
}
